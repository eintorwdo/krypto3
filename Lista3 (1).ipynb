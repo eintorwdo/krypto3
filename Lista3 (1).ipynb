{
  "nbformat": 4,
  "nbformat_minor": 0,
  "metadata": {
    "kernelspec": {
      "display_name": "Python 3",
      "language": "python",
      "name": "python3"
    },
    "language_info": {
      "codemirror_mode": {
        "name": "ipython",
        "version": 3
      },
      "file_extension": ".py",
      "mimetype": "text/x-python",
      "name": "python",
      "nbconvert_exporter": "python",
      "pygments_lexer": "ipython3",
      "version": "3.6.8"
    },
    "colab": {
      "name": "Lista3.ipynb",
      "provenance": [],
      "collapsed_sections": []
    }
  },
  "cells": [
    {
      "cell_type": "markdown",
      "metadata": {
        "id": "u88ZSWGA2O6U"
      },
      "source": [
        "# Lista 3 (11 pkt.) Termin: 19.10.2020r."
      ]
    },
    {
      "cell_type": "code",
      "metadata": {
        "id": "6YFRyU6s2O6U"
      },
      "source": [
        "import numpy as np"
      ],
      "execution_count": 1,
      "outputs": []
    },
    {
      "cell_type": "markdown",
      "metadata": {
        "id": "uTIhyZu02O6U"
      },
      "source": [
        "Ciało Galois (ciało skończone) $GF(p^n)$ ma $p^n$ elementów gdzie $p$ jest liczbą pierwszą a $n$ liczbą całkowitą. W ciałach $GF(p)=\\{0,1,...,p-1\\}$ dodawanie ($\\oplus$) i mnożenie ($\\odot$) są zdefiniowane jako zwykłe dodawanie ($+$) i mnożenie ($\\cdot$) liczb całkowitych modulo $p$.\n",
        "\n",
        "$$a,b\\in GF(p)$$\n",
        "\n",
        "$$a\\oplus b=a+b\\mod p$$\n",
        "\n",
        "$$a\\odot b=a \\cdot b\\mod p$$\n",
        "\n",
        "W ciałach $GF(p^n)$ elementy ciała możemy traktować jako wielomiany stopnia $n-1$ o współczynnikach z ciała $GF(p)$:\n",
        "\n",
        "$$a\\in GF(p^n)$$\n",
        "\n",
        "$$a=c_{n-1}x^{n-1}+c_{n-2}x^{n-2}+...+c_1x+c_0$$\n",
        "\n",
        "$$c_k\\in GF(p)$$\n",
        "\n",
        "Spójrzmy na przypadek, który nas najbardziej interesuje czyli ciala $GF(2^n)$.\n",
        "\n",
        "Ciało $GF(2)=\\{0,1\\}$ jest ciałem dwu elemntowym, z działaniami\n",
        "\n",
        "$0\\oplus0=0$, $0\\oplus1=1$, $1\\oplus1=0$,\n",
        "\n",
        "$0\\odot0=0$, $0\\odot1=0$, $1\\odot1=1$.\n",
        "\n",
        "Zatem cialo $GF(2^n)$ zawiera wielomiany o wspólczynnikach $0$ i $1$, np. ciało $GF(2^3)$ zawiera 8 elementów:\n",
        "\n",
        "$1$, $x$, $x+1$, $x^2$, $x^2+1$, $x^2+x$, $x^2+x+1$,\n",
        "\n",
        "elementy te możemy reprezentować jako ciąg bitów, określający współczynnki w wielomianie, tzn.\n",
        "\n",
        "$1=001$, $x=010$, $x+1=011$, $x^2=100$, $x^2+1=101$, $x^2+x=110$, $x^2+x+1=111$.\n",
        "\n",
        "W poniższych zadaniach będzie trzeba zaimplementować działania w ciele $GF(2^n)$."
      ]
    },
    {
      "cell_type": "markdown",
      "metadata": {
        "id": "2j8ysJsa2O6U"
      },
      "source": [
        "## Zadanie 1 (1 pkt.)"
      ]
    },
    {
      "cell_type": "markdown",
      "metadata": {
        "id": "R0xPw79B2O6U"
      },
      "source": [
        "Dodawanie w ciele $GF(p^n)$ jest zdefiniowane jako zwykłe dodawanie wielomianów, z tym że wspóczynniki dodają się zgodnie z regułami z ciała $GF(p)$. Zatem w przypadku ciała $GF(2^n)$ dodawnie wyglada na przykład tak:\n",
        "\n",
        "chcmemy dodać do siebie dwa elementy ciała $GF(2^3)$: $x^2+x$ oraz $x+1$:\n",
        "\n",
        "$(x^2+x)\\oplus (x+1)=(1\\cdot x^2+1\\cdot x+0\\cdot 1)\\oplus (0\\cdot x^2+1\\cdot x+1\\cdot 1)=(1\\oplus0)\\cdot x^2+(1\\oplus 1)\\cdot x+(0\\oplus 1)\\cdot 1=1\\cdot x^2+0\\cdot x+1\\cdot 1=x^2+1$\n",
        "\n",
        "to samo dodawanie możemy zapisać reprezentując wiwlomiany jako ciągi btów:\n",
        "$110\\oplus011=101$\n",
        "widzimy więc, że dodawnie wielomianów jest zwykłą alternatywą wykluczająca dwóch ciagów bitów.\n",
        "\n",
        "Zauważmy też, że w wyniku dodawnia zawsze dostajemy wielomian o stopniu nie wyższym niż składniki działania zatem nie wychodzimy poza ciało, czyli nie musimy wykonywac żadnej operacji modulo na wielommianach.\n",
        "\n",
        "Zaimplementuj funkcję $\\textit{add_GF(p,q)}$, przyjmującą dwa stringi będące ciagami bitów reprezentujące dwa \n",
        "wielomiany i zwracjącą string będący ciagiem bitów reprezentujący wielomian $p\\oplus q$."
      ]
    },
    {
      "cell_type": "code",
      "metadata": {
        "id": "mhA6XHI82O6U"
      },
      "source": [
        "def add_GF(p,q):\n",
        "    size = max(len(p), len(q))\n",
        "    p = p.zfill(size)\n",
        "    q = q.zfill(size)\n",
        "    out = ''\n",
        "    for i in range(size):\n",
        "      out = out + str(((int(p[i]) + int(q[i])) % 2))\n",
        "    out = out.lstrip('0')\n",
        "    if (len(out) == 0):\n",
        "      out = '0'\n",
        "    return out\n",
        "    \n",
        "    \n",
        "        \n"
      ],
      "execution_count": 21,
      "outputs": []
    },
    {
      "cell_type": "code",
      "metadata": {
        "colab": {
          "base_uri": "https://localhost:8080/"
        },
        "id": "VXRM0gjl2O6U",
        "outputId": "afe3f0c4-04a5-49df-b899-d7e61d6a688f"
      },
      "source": [
        "print(add_GF('110','11')=='101')\n",
        "print(add_GF('110','101')=='11')"
      ],
      "execution_count": 22,
      "outputs": [
        {
          "output_type": "stream",
          "text": [
            "True\n",
            "True\n"
          ],
          "name": "stdout"
        }
      ]
    },
    {
      "cell_type": "markdown",
      "metadata": {
        "id": "w10xlMP-2O6V"
      },
      "source": [
        "Poza tym zaimplementuj funkcję zamieniającą string z bitami na string zawierający zapis szesnastkowy (uzupełniający ewentualnie zerami z przodu aby uzyskać zadaną liczbę cyfr $\\textit{pad}$), przyda nam się to później."
      ]
    },
    {
      "cell_type": "code",
      "metadata": {
        "id": "aovQDO5u2O6V"
      },
      "source": [
        "def bin2hex(bin_str,pad):\n",
        "    hex_num = hex(int(bin_str, 2))[2:].zfill(pad)\n",
        "    return hex_num"
      ],
      "execution_count": 24,
      "outputs": []
    },
    {
      "cell_type": "code",
      "metadata": {
        "colab": {
          "base_uri": "https://localhost:8080/"
        },
        "id": "DgRVlBVZ2O6V",
        "outputId": "766b4843-6259-47cd-e616-d6be6f0c93cf"
      },
      "source": [
        "print(bin2hex('1101',2)=='0d')\n",
        "print(bin2hex('11010011',2)=='d3')\n",
        "print(bin2hex('1111111',3)=='07f')\n",
        "print(bin2hex('1',1)=='1')"
      ],
      "execution_count": 25,
      "outputs": [
        {
          "output_type": "stream",
          "text": [
            "True\n",
            "True\n",
            "True\n",
            "True\n"
          ],
          "name": "stdout"
        }
      ]
    },
    {
      "cell_type": "markdown",
      "metadata": {
        "id": "ZFO5UngB2O6V"
      },
      "source": [
        "## Zadanie 2 (2 pkt.)"
      ]
    },
    {
      "cell_type": "markdown",
      "metadata": {
        "id": "5EeZ-8P-2O6V"
      },
      "source": [
        "Teraz zajmiemy się mnożeniem, które jest już bardziej skomplikowane. Na początek mnożymy jak w przypadku zwykłych wielomianów, z tym, że współczynniki mnożą się zgodnie z regułami $GF(2)$. Jaka łatwo jednak zauważyć w wyniku mnożenia możemy dostać wielomian o stopniu wyższym niż mnożone wielomiany zatem nie należący do naszego ciał, aby wynik zawsze należał do ciała musimy dodatkowo wykonać dzielenie wielomianu modulo pewien nieredukowalny wielomian, który musi być podany jako elelment definicji, gdyż takich możliwych wielomianów może być wiele.\n",
        "\n",
        "Zanim jednak będziemy cokolwiek dzielić musimy zaimplementować zwykłe mnożenie wielomianów.\n",
        "\n",
        "Zaimplementuj funkcję $\\textit{multiply(p,q)}$, przyjmującą dwa stringi będące ciagami bitów reprezentujące dwa \n",
        "wielomiany i zwracjącą string będący ciagiem bitów reprezentujących wielomian $pq$. Nie jest to mnożenie w ramach ciała Galois bo jeszcze nie uwzględniamy operacji modulo, ale dodawnie, które się pojawia przy mnożeniu tych wielomianów jest dodawaniem w ciele Galois ($\\textit{add_GF()}$), tzn. na przykład:\n",
        "\n",
        "$(x^2+x)(x+1)=x^3+x$ bo $x^2\\oplus x^2=0$\n",
        "\n",
        "jak łatwo zauważyć, $x^3+x\\notin GF(2^3)$"
      ]
    },
    {
      "cell_type": "code",
      "metadata": {
        "id": "QHxHrvHX2O6V"
      },
      "source": [
        "def strToIntArr(str):\n",
        "    arr = []\n",
        "    for el in str:\n",
        "      arr.append(int(el))\n",
        "    return arr\n",
        "\n",
        "def arrToString(arr):\n",
        "    out = ''.join([str(el) for el in arr])\n",
        "    return out\n",
        "\n",
        "def multiply(p,q):\n",
        "    # size = max(len(p), len(q))\n",
        "    # p = p[::-1]\n",
        "    # q = q[::-1]\n",
        "    # p_int = strToIntArr(p)\n",
        "    # q_int = strToIntArr(q)\n",
        "    # result = np.convolve(p_int, q_int)[::-1]\n",
        "    # for i in range(len(result)):\n",
        "    #   result[i] = result[i] % 2\n",
        "    # out = ''.join([str(el) for el in result])\n",
        "    # return out\n",
        "\n",
        "    p_len = len(p)\n",
        "    q_len = len(q)\n",
        "\n",
        "    size = max(p_len, q_len)\n",
        "    p = strToIntArr(p[::-1])\n",
        "    q = strToIntArr(q[::-1])\n",
        "    result = [0] * (p_len + q_len)\n",
        "    for i in range(len(p)):\n",
        "      p_el = p[i]\n",
        "      for j in range(len(q)):\n",
        "        q_el = q[j]\n",
        "        result[i+j] = (result[i + j] + p_el * q_el) % 2\n",
        "    out = arrToString(result).rstrip('0')[::-1]\n",
        "    if (len(out) == 0):\n",
        "      out = '0'\n",
        "    return out\n",
        "\n",
        "\n"
      ],
      "execution_count": 27,
      "outputs": []
    },
    {
      "cell_type": "code",
      "metadata": {
        "id": "QfFuev5f2O6V",
        "colab": {
          "base_uri": "https://localhost:8080/"
        },
        "outputId": "ddd1c6ad-1657-46cf-a00b-46b0ae0e21ef"
      },
      "source": [
        "print(multiply('10','1')=='10')\n",
        "print(multiply('10','10')=='100')\n",
        "print(multiply('110','11')=='1010')"
      ],
      "execution_count": 28,
      "outputs": [
        {
          "output_type": "stream",
          "text": [
            "True\n",
            "True\n",
            "True\n"
          ],
          "name": "stdout"
        }
      ]
    },
    {
      "cell_type": "markdown",
      "metadata": {
        "id": "86tz4_w22O6V"
      },
      "source": [
        "## Zadanie 3 (2 pkt.)"
      ]
    },
    {
      "cell_type": "markdown",
      "metadata": {
        "id": "5THIaudp2O6V"
      },
      "source": [
        "Zaimplementuj funkcję $\\textit{divide(p,q)}$, która dla wielomianów $p$ i $q$ zwraca wynik dzielenie $p$ przez $q$ wraz z resztą. Jak dzielić wielomiany z resztą przypomnij sobie ze szkoły średniej, tu będzie tak samo tylko trzeba pamietać, że współczynniki w naszych wielomianach należą do ciała $GF(2)$."
      ]
    },
    {
      "cell_type": "code",
      "metadata": {
        "id": "zaHBw75D2O6V"
      },
      "source": [
        "def divide(p,q):\n",
        "    # p_int = strToIntArr(p)\n",
        "    # q_int = strToIntArr(q)\n",
        "    # result, rem = np.polydiv(np.array(p_int), np.array(q_int))\n",
        "    # for i in range(len(result)):\n",
        "    #   result[i] = result[i] % 2\n",
        "    # for i in range(len(rem)):\n",
        "    #   rem[i] = rem[i] % 2\n",
        "    # out = ''.join([str(int(el)) for el in result])\n",
        "    # rem = ''.join([str(int(el)) for el in rem])\n",
        "    # if (int(rem, 2) == 0):\n",
        "    #   rem = '0'\n",
        "    # return (out, rem)\n",
        "\n",
        "    size = len(p)\n",
        "    divider_len = len(q)\n",
        "    result = [0] * (size - divider_len + 1)\n",
        "    remainder = strToIntArr(p[::-1])\n",
        "    divider = strToIntArr(q.zfill(size)[::-1])\n",
        "\n",
        "    while (len(remainder) >= divider_len):\n",
        "      # print(remainder, divider)\n",
        "      index = len(remainder) - len(q)\n",
        "      result[index] = 1\n",
        "      multiplier = [0] * len(result)\n",
        "      multiplier[index] = 1\n",
        "      multRes = multiply(arrToString(multiplier)[::-1], arrToString(q))\n",
        "      sum = add_GF(arrToString(remainder)[::-1], multRes)\n",
        "      remainder = strToIntArr(sum[::-1])\n",
        "      if (len(remainder) == 0 or remainder == [0]):\n",
        "        remainder = '0'\n",
        "        break\n",
        "    return (arrToString(result)[::-1], arrToString(remainder)[::-1])\n"
      ],
      "execution_count": 30,
      "outputs": []
    },
    {
      "cell_type": "code",
      "metadata": {
        "id": "7293BLgP2O6V",
        "colab": {
          "base_uri": "https://localhost:8080/"
        },
        "outputId": "ad6b84e3-11e9-4291-c59c-77298a5e31e2"
      },
      "source": [
        "print(divide('1011','11')==('110','1'))\n",
        "print(divide('1010','110')==('11','0'))\n",
        "print(divide('1111','10')==('111','1'))\n",
        "# print(divide('1110','1'))"
      ],
      "execution_count": 31,
      "outputs": [
        {
          "output_type": "stream",
          "text": [
            "True\n",
            "True\n",
            "True\n"
          ],
          "name": "stdout"
        }
      ]
    },
    {
      "cell_type": "markdown",
      "metadata": {
        "id": "jhMO4zbS2O6W"
      },
      "source": [
        "## Zadanie 4 (1 pkt.)"
      ]
    },
    {
      "cell_type": "markdown",
      "metadata": {
        "id": "ajiHQJH72O6W"
      },
      "source": [
        "Teraz możemy przejść do mnożenia w ciele $GF(2^n)$. Jest to zwykłe mnożenie wielomianów (funkcja $\\textit{multiply()}$) ale dodatkowo musimy wykonać dzielenie z resztą (funkcja $\\textit{divide()}$) przez pewnie nieredukowalny wielomian, i ostatecznym wynikiem jest właśnie reszta z tego dzielenia. Wielomian ten można wybrać na wiele sposobów.\n",
        "\n",
        "Skupmy się więc od teraz na przypadku, który nas najbardziej interesuje czyli ciele Galois używanym w przypadku szyfrowania AES, któym będziemy się zajmować. Ciałem tym jest $GF(2^8)$ z wielomianem nieredukowalnym $x^8+x^4+x^3+x+1$.\n",
        "\n",
        "Zaimplementuj funkcję $\\textit{multiply_GF(p,q)}$, która dla wielomianów $p$, $q$ zwraca wynika mnożenia $p\\odot q$ w ciele $GF(2^8)$ modulo wielomian $x^8+x^4+x^3+x+1$."
      ]
    },
    {
      "cell_type": "code",
      "metadata": {
        "id": "Ayl7QgCy2O6W"
      },
      "source": [
        "def multiply_GF(p,q):\n",
        "    divider = '100011011'\n",
        "    mulRes = multiply(p, q)\n",
        "    divRes = divide(mulRes, divider)\n",
        "    return divRes[1]"
      ],
      "execution_count": 33,
      "outputs": []
    },
    {
      "cell_type": "code",
      "metadata": {
        "colab": {
          "base_uri": "https://localhost:8080/"
        },
        "id": "dK295Trq2O6W",
        "outputId": "09f49a95-b300-4589-f819-fff1974dccea"
      },
      "source": [
        "print(multiply_GF('1101','1')=='1101')\n",
        "print(multiply_GF('1101','10')=='11010')\n",
        "print(multiply_GF('10000000','10')=='11011')\n",
        "print(multiply_GF('11100101','1010')=='10111000')"
      ],
      "execution_count": 34,
      "outputs": [
        {
          "output_type": "stream",
          "text": [
            "True\n",
            "True\n",
            "True\n",
            "True\n"
          ],
          "name": "stdout"
        }
      ]
    },
    {
      "cell_type": "markdown",
      "metadata": {
        "id": "Njl4iDOG2O6W"
      },
      "source": [
        "## Zadanie 5 (2 pkt.)"
      ]
    },
    {
      "cell_type": "markdown",
      "metadata": {
        "id": "ypzg4blC2O6W"
      },
      "source": [
        "Potrafimy mnożyć już wielomiany w ciele $GF(2^8)$, chcielibyśmy też umieć znajdować do danego elementu $p$ element odwrotny $q$, to jest taki, że $p\\odot q=1$. Aby to zrobić będziemy musieli skorzystać z Rozszerzonego Algorytmu Euklidesa (EEA), algorytm ten dla danych liczb całkowitych $a$ i $b$ znajduje takie liczby całkowite $c$ i $d$, że:\n",
        "\n",
        "$$ac+bd=NWD(a,b)$$\n",
        "gdzie $NWD$ to największy wspólny dzielnik.\n",
        "\n",
        "Ten sam algorytm możemy użyć w odniesieiu do elementów ciała $GF(2^8)$, wystarczy wszystkie operacje dodawania, mnożenia i dzielenia z resztą używane w tym algorytmie zastąpić operacjami $\\textit{add_GF()}$, $\\textit{multiply_GF()}$, $\\textit{divide()}$.\n",
        "\n",
        "Zaimplementuj funkcję $\\textit{EEA_GF(p,q)}$, która dla wielomianów $p$, $q$ zwraca wielomiany $s$ i $t$ takie, że $s\\odot p\\oplus t\\odot q=NWD(p,q)$."
      ]
    },
    {
      "cell_type": "code",
      "metadata": {
        "id": "UoYTm2US2O6W"
      },
      "source": [
        "def EEA_GF(r0,r1):\n",
        "    prevx, x = '1', '0'\n",
        "    prevy, y = '0', '1'\n",
        "\n",
        "    while (r1 != '0'):\n",
        "      division = divide(r0, r1)\n",
        "      q = division[0]\n",
        "      x, prevx = add_GF(prevx, multiply_GF(q, x)), x\n",
        "      y, prevy = add_GF(prevy, multiply_GF(q, y)), y\n",
        "      r0, r1 = r1, division[1]\n",
        "    return prevx, prevy"
      ],
      "execution_count": 36,
      "outputs": []
    },
    {
      "cell_type": "code",
      "metadata": {
        "colab": {
          "base_uri": "https://localhost:8080/"
        },
        "id": "OIUEaJn92O6W",
        "outputId": "de4749fc-deae-4235-f3c5-49ae8097cfcb"
      },
      "source": [
        "print(EEA_GF('11010101','10010111')==('11001', '10100'))\n",
        "print(EEA_GF('11110000','11001011')==('1000000', '1010111'))"
      ],
      "execution_count": 37,
      "outputs": [
        {
          "output_type": "stream",
          "text": [
            "True\n",
            "True\n"
          ],
          "name": "stdout"
        }
      ]
    },
    {
      "cell_type": "markdown",
      "metadata": {
        "id": "KiOua7VH2O6W"
      },
      "source": [
        "## Zadanie 6 (1 pkt.)"
      ]
    },
    {
      "cell_type": "markdown",
      "metadata": {
        "id": "60QXMV7a2O6W"
      },
      "source": [
        "Korzytsając z Rozszerzonego Algorytmu Euklidesa (EEA) możemy znajdować wielomian odwrotny do danego. Pozostańmy przy naszym przypadku ciała $GF(2^8)$ z wielomianem nieredukowalnym $m=x^8+x^4+x^3+x+1$. Weźmy dowolny wielomian $p\\in GF(2^8)$. Korzystając z EEA możemy znakexć takie $s$ i $t$, że $$s\\odot p\\oplus t\\odot m=NWD(p,m)$$\n",
        "\n",
        "ponieważ $m$ jest nieredukowalny to $NWD(p,m)=1$ a zatem\n",
        "\n",
        "$$s\\odot p\\oplus t\\odot m=1$$\n",
        "\n",
        "poza tym zauważmy, że $t\\odot m=0$, bo przy wykonywaniu działania $\\odot$ dzielimy modulo własnie przez $m$ więc reszta z tego dzielenia jest zerem. Zatem:\n",
        "\n",
        "$$s\\odot p=1$$\n",
        "\n",
        "czyli znaleźliśmy element odwrotny do $p$ jest to $s$, czyli jeden z wielomianów, które zwraca algorytm $EEA$.\n",
        "\n",
        "Napisz funkcję zwracjącą odwrotność podanego wielomianu, korzystającą z funkcji $\\textit{EEA_GF()}$"
      ]
    },
    {
      "cell_type": "code",
      "metadata": {
        "id": "mGoxtxRN2O6W"
      },
      "source": [
        "def inverse_GF(p):\n",
        "    m = '100011011'\n",
        "    s, t = EEA_GF(p, m)\n",
        "    sp = multiply_GF(s, p)\n",
        "    tp = multiply_GF(t, p)\n",
        "    \n",
        "    return s if sp == '1' else t"
      ],
      "execution_count": 39,
      "outputs": []
    },
    {
      "cell_type": "code",
      "metadata": {
        "id": "A-URwg4I2O6W",
        "colab": {
          "base_uri": "https://localhost:8080/"
        },
        "outputId": "ebc3b093-306c-4466-89bc-ec1e56c10233"
      },
      "source": [
        "print(inverse_GF('11001010')=='1010011')\n",
        "print(inverse_GF('1100101')=='10100110')"
      ],
      "execution_count": 40,
      "outputs": [
        {
          "output_type": "stream",
          "text": [
            "True\n",
            "True\n"
          ],
          "name": "stdout"
        }
      ]
    },
    {
      "cell_type": "markdown",
      "metadata": {
        "id": "PUKcH9PD2O6W"
      },
      "source": [
        "## Zadanie 7 (2 pkt.)"
      ]
    },
    {
      "cell_type": "markdown",
      "metadata": {
        "id": "h_yC9XEG2O6W"
      },
      "source": [
        "Na poprzedniej liście dotyczącej DES-a używaliśmy S-Boxa. W przypadku AES-a również jest używany odpowiedni S-Box, zamienia on ciąg 8 bitów na inny ciąg 8 bitów. Poniżej widzimy gotową postać tego S-Boxa. Mając dane 8 bitów (np. '01010110') dzielimy je na dwie grupy ('0101' i '0110'), zamieniając je na liczbę dziesiętną otrzymujemy numer wiersza oraz kolumny (5 i 6), z których odczytujemy wynik ('b1'), który jest zapisany w postaci szesnastkowej, zamieniamy go więc na binarną ('10110001') i to jest ciąg bitów, którym zastępujemy wejściowy.\n",
        "\n",
        "W przypadku DES-a S-Box był dany jako element specyfikacji, tutaj natomiast S-Box wynika z teorii ciał Galois i możemy go wyprowadzić, tego dotyczy właśnie to zadanie. Operacje, które stoją za działaniem S-Boxa są następujące. Bierzemy wejściowy ciąg 8 bitów $p$ następnie obliczamy jego odwrotność w ciele Galois (funkcja $\\textit{inverse_GF()}$) to co otrzymujemy oznaczmy $p^{-1}$, następnie dokonujemy transformacji afinicznej za pomocą macierzy $A$ oraz wektora $v$\n",
        "\n",
        "$$q=Ap^{-1}+v$$\n",
        "\n",
        "gdzie mamy iloczyn macierzy i wektora ($p$ traktujemy jako wektor bitów, bez zmiany kolejności, tj. $p=[p_7, p_6, ..., p_0]$ ) oraz sumę wektorów, przy czym operacje na bitach wykonujemy w ramach ciała $GF(2)$. Otrzymany ciąg bitów $q$ jest naszym wynikiem, ten ciąg właśnie znajduje się na odpowiendnim dla $p$ miejscu S-Boxa.\n",
        "\n",
        "Uwaga: wektor $p=(0,0,0,0,0,0,0,0)$ nie ma odwrotności w ciele $GF(2^8)$ bo jest wektorem zerowym a ciało tworzy grupę ze względu na mnożenie dla wszytskich elementów poza zerowym (czyli tym, który jest elementem neutralnym w działaniu dodawania) w ramach algorytmu AES przyjmujemy, że $p^{-1}$ jest też wektorem zerowym ($p^{-1}=(0,0,0,0,0,0,0,0)$).\n",
        "\n",
        "Napisz funkcję $\\textit{substitute(p)}$, ktore przyjmuje ciąg bitów i zwraca ciąg (reprezentowany przez dwie cyfry szensastkowe) wynikający z powyższej transformacji. A następnie wygeneruj za jej pomocą S-Box, sprawdź czy wyszedł taki jak poniżej, użyj funkcji $\\textit{bin2hex()}$ aby zamienić ciągi bitów na zapis szesnastkowy."
      ]
    },
    {
      "cell_type": "code",
      "metadata": {
        "id": "VaC55_NJ2O6W"
      },
      "source": [
        "SBox=[['63', '7c', '77', '7b', 'f2', '6b', '6f', 'c5', '30', '01', '67', '2b', 'fe', 'd7', 'ab', '76'],\n",
        "      ['ca', '82', 'c9', '7d', 'fa', '59', '47', 'f0', 'ad', 'd4', 'a2', 'af', '9c', 'a4', '72', 'c0'],\n",
        "      ['b7', 'fd', '93', '26', '36', '3f', 'f7', 'cc', '34', 'a5', 'e5', 'f1', '71', 'd8', '31', '15'],\n",
        "      ['04', 'c7', '23', 'c3', '18', '96', '05', '9a', '07', '12', '80', 'e2', 'eb', '27', 'b2', '75'],\n",
        "      ['09', '83', '2c', '1a', '1b', '6e', '5a', 'a0', '52', '3b', 'd6', 'b3', '29', 'e3', '2f', '84'],\n",
        "      ['53', 'd1', '00', 'ed', '20', 'fc', 'b1', '5b', '6a', 'cb', 'be', '39', '4a', '4c', '58', 'cf'],\n",
        "      ['d0', 'ef', 'aa', 'fb', '43', '4d', '33', '85', '45', 'f9', '02', '7f', '50', '3c', '9f', 'a8'],\n",
        "      ['51', 'a3', '40', '8f', '92', '9d', '38', 'f5', 'bc', 'b6', 'da', '21', '10', 'ff', 'f3', 'd2'],\n",
        "      ['cd', '0c', '13', 'ec', '5f', '97', '44', '17', 'c4', 'a7', '7e', '3d', '64', '5d', '19', '73'],\n",
        "      ['60', '81', '4f', 'dc', '22', '2a', '90', '88', '46', 'ee', 'b8', '14', 'de', '5e', '0b', 'db'],\n",
        "      ['e0', '32', '3a', '0a', '49', '06', '24', '5c', 'c2', 'd3', 'ac', '62', '91', '95', 'e4', '79'],\n",
        "      ['e7', 'c8', '37', '6d', '8d', 'd5', '4e', 'a9', '6c', '56', 'f4', 'ea', '65', '7a', 'ae', '08'],\n",
        "      ['ba', '78', '25', '2e', '1c', 'a6', 'b4', 'c6', 'e8', 'dd', '74', '1f', '4b', 'bd', '8b', '8a'],\n",
        "      ['70', '3e', 'b5', '66', '48', '03', 'f6', '0e', '61', '35', '57', 'b9', '86', 'c1', '1d', '9e'],\n",
        "      ['e1', 'f8', '98', '11', '69', 'd9', '8e', '94', '9b', '1e', '87', 'e9', 'ce', '55', '28', 'df'],\n",
        "      ['8c', 'a1', '89', '0d', 'bf', 'e6', '42', '68', '41', '99', '2d', '0f', 'b0', '54', 'bb', '16']]"
      ],
      "execution_count": 41,
      "outputs": []
    },
    {
      "cell_type": "code",
      "metadata": {
        "id": "2jRfPw4G2O6W"
      },
      "source": [
        "A=[[1, 1, 1, 1, 1, 0, 0, 0],\n",
        "   [0, 1, 1, 1, 1, 1, 0, 0],\n",
        "   [0, 0, 1, 1, 1, 1, 1, 0],\n",
        "   [0, 0, 0, 1, 1, 1, 1, 1],\n",
        "   [1, 0, 0, 0, 1, 1, 1, 1],\n",
        "   [1, 1, 0, 0, 0, 1, 1, 1],\n",
        "   [1, 1, 1, 0, 0, 0, 1, 1],\n",
        "   [1, 1, 1, 1, 0, 0, 0, 1]]\n",
        "\n",
        "v=[0, 1, 1, 0, 0, 0, 1, 1]"
      ],
      "execution_count": 42,
      "outputs": []
    },
    {
      "cell_type": "code",
      "metadata": {
        "id": "hREPGZ482O6W"
      },
      "source": [
        "def substitute(p):\n",
        "    p = p.lstrip('0')\n",
        "    p_inverse = [0] * 8\n",
        "    if (len(p) != 0):\n",
        "      p_inverse = inverse_GF(p)\n",
        "      p_inverse = strToIntArr(p_inverse.zfill(8))\n",
        "\n",
        "    # q = np.add(np.array(A).dot(np.array(p_inverse)), v)\n",
        "    # for i in range(len(q)):\n",
        "    #   q[i] = q[i] % 2\n",
        "    # # print(bin2hex(arrToString(q), 2))\n",
        "    # return bin2hex(arrToString(q), 2)\n",
        "\n",
        "    Ap = ['0'] * 8\n",
        "    q = [0] * 8\n",
        "\n",
        "    for i in range(len(A)):\n",
        "      for j in range(len(A[i])):\n",
        "        Ap[i] = add_GF(Ap[i], multiply_GF(str(A[i][j]), str(p_inverse[j])))\n",
        "    \n",
        "    for k in range(len(Ap)):\n",
        "      q[k] = int(add_GF(Ap[k], str(v[k])))\n",
        "\n",
        "    return bin2hex(arrToString(q), 2)"
      ],
      "execution_count": 45,
      "outputs": []
    },
    {
      "cell_type": "code",
      "metadata": {
        "id": "yQHtetAV2O6W",
        "colab": {
          "base_uri": "https://localhost:8080/"
        },
        "outputId": "77df33e8-2072-42a7-dbdb-d0beb52f4b31"
      },
      "source": [
        "print(substitute('11010101')=='03')\n",
        "print(substitute('01010001')=='d1')\n",
        "print(substitute('11011101')=='c1')\n",
        "print(substitute('11101100')=='ce')"
      ],
      "execution_count": 46,
      "outputs": [
        {
          "output_type": "stream",
          "text": [
            "True\n",
            "True\n",
            "True\n",
            "True\n"
          ],
          "name": "stdout"
        }
      ]
    },
    {
      "cell_type": "code",
      "metadata": {
        "id": "ADZN_nmj2O6W",
        "colab": {
          "base_uri": "https://localhost:8080/"
        },
        "outputId": "29f11873-cb0a-4a51-d742-d37895de28aa"
      },
      "source": [
        "def genSBox():\n",
        "    sbox = np.zeros((16, 16)).tolist()\n",
        "\n",
        "    for i in range(2**8):\n",
        "      s = str(bin(i)[2:])\n",
        "      s = s.zfill(8)\n",
        "      sl = s[:4]\n",
        "      sr = s[4:]\n",
        "      sbox[int(sl, 2)][int(sr, 2)] = substitute(s)\n",
        "    return sbox\n",
        "\n",
        "\n",
        "s_box = genSBox()#zmienna zawierająca utworzony S-Box\n",
        "print(s_box==SBox)"
      ],
      "execution_count": 48,
      "outputs": [
        {
          "output_type": "stream",
          "text": [
            "True\n"
          ],
          "name": "stdout"
        }
      ]
    }
  ]
}